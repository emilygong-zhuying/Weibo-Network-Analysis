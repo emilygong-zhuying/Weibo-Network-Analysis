{
 "cells": [
  {
   "cell_type": "markdown",
   "metadata": {},
   "source": [
    "# Clean Text\n",
    "\n",
    "Some general steps in preprocessing text include \n",
    "1. Lowercase <- not applicable to Chinese\n",
    "2. Removing Punctuation\n",
    "3. Tokenization <- will be done through Paddle Paddle\n",
    "4. Stopword Filtering\n",
    "5. Stemming/Lemmatization <- not applicable to Chinese\n",
    "6. Part-of-Speech Tagger <- not very necessary in my case\n",
    "\n",
    "So we will just do the following and one more thing...\n",
    "1. Removing Punctuation\n",
    "2. Stopword Filtering\n",
    "3. Removing Emoji and Description words (such as [嘻嘻])"
   ]
  },
  {
   "cell_type": "code",
   "execution_count": 2,
   "metadata": {},
   "outputs": [],
   "source": [
    "import pandas as pd\n",
    "import numpy as np\n",
    "import os"
   ]
  },
  {
   "cell_type": "code",
   "execution_count": 3,
   "metadata": {},
   "outputs": [],
   "source": [
    "path = \"/home/emilygong/Weibo-Network-Analysis-local/stopwords-zh\"\n",
    "os.chdir(path)"
   ]
  },
  {
   "cell_type": "code",
   "execution_count": 4,
   "metadata": {},
   "outputs": [
    {
     "name": "stderr",
     "output_type": "stream",
     "text": [
      "/tmp/ipykernel_798282/3818951026.py:1: FutureWarning: In a future version of pandas all arguments of read_csv except for the argument 'filepath_or_buffer' will be keyword-only.\n",
      "  stopwords = pd.read_csv('stopwords-zh.txt', '\\t', header = None)[0].to_list()\n"
     ]
    }
   ],
   "source": [
    "stopwords = pd.read_csv('stopwords-zh.txt', '\\t', header = None)[0].to_list()"
   ]
  },
  {
   "cell_type": "code",
   "execution_count": 5,
   "metadata": {},
   "outputs": [],
   "source": [
    "path = \"/home/emilygong/Weibo-Network-Analysis-local\"\n",
    "os.chdir(path)"
   ]
  },
  {
   "cell_type": "markdown",
   "metadata": {},
   "source": [
    "# Read in"
   ]
  },
  {
   "cell_type": "code",
   "execution_count": 6,
   "metadata": {},
   "outputs": [],
   "source": [
    "#read in the original dataset\n",
    "weibo_senti = pd.read_csv('weibo_senti_100k.csv')\n",
    "\n",
    "weibo_senti = weibo_senti.rename(columns={'review': 'text'})\n",
    "\n",
    "#define function to swap columns\n",
    "def swap_columns(df, col1, col2):\n",
    "    col_list = list(df.columns)\n",
    "    x, y = col_list.index(col1), col_list.index(col2)\n",
    "    col_list[y], col_list[x] = col_list[x], col_list[y]\n",
    "    df = df[col_list]\n",
    "    return df\n",
    "\n",
    "#swap points and rebounds columns\n",
    "df = swap_columns(weibo_senti, 'label', 'text')"
   ]
  },
  {
   "cell_type": "code",
   "execution_count": 42,
   "metadata": {},
   "outputs": [
    {
     "data": {
      "text/html": [
       "<div>\n",
       "<style scoped>\n",
       "    .dataframe tbody tr th:only-of-type {\n",
       "        vertical-align: middle;\n",
       "    }\n",
       "\n",
       "    .dataframe tbody tr th {\n",
       "        vertical-align: top;\n",
       "    }\n",
       "\n",
       "    .dataframe thead th {\n",
       "        text-align: right;\n",
       "    }\n",
       "</style>\n",
       "<table border=\"1\" class=\"dataframe\">\n",
       "  <thead>\n",
       "    <tr style=\"text-align: right;\">\n",
       "      <th></th>\n",
       "      <th>text</th>\n",
       "      <th>label</th>\n",
       "    </tr>\n",
       "  </thead>\n",
       "  <tbody>\n",
       "    <tr>\n",
       "      <th>0</th>\n",
       "      <td>我是真服了#合肥疫情#</td>\n",
       "      <td>0</td>\n",
       "    </tr>\n",
       "    <tr>\n",
       "      <th>1</th>\n",
       "      <td>啥也不说了，时间真的证明了，武汉真是英雄的城市。</td>\n",
       "      <td>1</td>\n",
       "    </tr>\n",
       "    <tr>\n",
       "      <th>2</th>\n",
       "      <td>如果这个女孩朋友圈是造谣，周处长可以选择报警了；如果她所说属实，周处长真是一位好婆婆。这一邮...</td>\n",
       "      <td>0</td>\n",
       "    </tr>\n",
       "    <tr>\n",
       "      <th>3</th>\n",
       "      <td>【昨日#上海新增355例确诊5298例无症状#】上海市卫健委今早（31日）通报：2022年3...</td>\n",
       "      <td>0</td>\n",
       "    </tr>\n",
       "    <tr>\n",
       "      <th>4</th>\n",
       "      <td>#100万癌症患者的上海生存#过去两个月，在上海这座医疗资源被剧烈争夺的超级大都市，癌症患者...</td>\n",
       "      <td>1</td>\n",
       "    </tr>\n",
       "    <tr>\n",
       "      <th>...</th>\n",
       "      <td>...</td>\n",
       "      <td>...</td>\n",
       "    </tr>\n",
       "    <tr>\n",
       "      <th>195</th>\n",
       "      <td>“上海封上一周不行吗？”不行！因为上海承载全国乃至全球重要功能#上海为什么不能封城#L中事的...</td>\n",
       "      <td>0</td>\n",
       "    </tr>\n",
       "    <tr>\n",
       "      <th>196</th>\n",
       "      <td>本来打了很多字，但后来全部删掉了，因为说太多反而会牵扯很多话题，也不想评论里大家吵起来。现在...</td>\n",
       "      <td>1</td>\n",
       "    </tr>\n",
       "    <tr>\n",
       "      <th>197</th>\n",
       "      <td>#全国已有上万名医护人员驰援上海#2020至今，最拉的城市！没有之一！！！！关键这种时候某些...</td>\n",
       "      <td>0</td>\n",
       "    </tr>\n",
       "    <tr>\n",
       "      <th>198</th>\n",
       "      <td>没转吉林市丹东市等一系列三四线封城求助是因为我坚信转了也没用，一二线省会城市还会稍微注意以下...</td>\n",
       "      <td>0</td>\n",
       "    </tr>\n",
       "    <tr>\n",
       "      <th>199</th>\n",
       "      <td>#抗疫先锋叶财德#他不是网红，但他是真的专家！作为国家卫生健康委应对新冠肺炎疫情社区防控基层...</td>\n",
       "      <td>1</td>\n",
       "    </tr>\n",
       "  </tbody>\n",
       "</table>\n",
       "<p>200 rows × 2 columns</p>\n",
       "</div>"
      ],
      "text/plain": [
       "                                                  text  label\n",
       "0                                          我是真服了#合肥疫情#      0\n",
       "1                             啥也不说了，时间真的证明了，武汉真是英雄的城市。      1\n",
       "2    如果这个女孩朋友圈是造谣，周处长可以选择报警了；如果她所说属实，周处长真是一位好婆婆。这一邮...      0\n",
       "3    【昨日#上海新增355例确诊5298例无症状#】上海市卫健委今早（31日）通报：2022年3...      0\n",
       "4    #100万癌症患者的上海生存#过去两个月，在上海这座医疗资源被剧烈争夺的超级大都市，癌症患者...      1\n",
       "..                                                 ...    ...\n",
       "195  “上海封上一周不行吗？”不行！因为上海承载全国乃至全球重要功能#上海为什么不能封城#L中事的...      0\n",
       "196  本来打了很多字，但后来全部删掉了，因为说太多反而会牵扯很多话题，也不想评论里大家吵起来。现在...      1\n",
       "197  #全国已有上万名医护人员驰援上海#2020至今，最拉的城市！没有之一！！！！关键这种时候某些...      0\n",
       "198  没转吉林市丹东市等一系列三四线封城求助是因为我坚信转了也没用，一二线省会城市还会稍微注意以下...      0\n",
       "199  #抗疫先锋叶财德#他不是网红，但他是真的专家！作为国家卫生健康委应对新冠肺炎疫情社区防控基层...      1\n",
       "\n",
       "[200 rows x 2 columns]"
      ]
     },
     "execution_count": 42,
     "metadata": {},
     "output_type": "execute_result"
    }
   ],
   "source": [
    "marked = pd.read_csv('new_manual_sa_marked.csv')\n",
    "marked = marked.drop(marked.columns[[0, 1, 2]], axis = 1)\n",
    "marked['sentiment_score'].replace(['negative', 'positive'], [0, 1], inplace=True)\n",
    "marked = marked.rename(columns={'post_text': 'text', 'sentiment_score': 'label'})\n",
    "swap_columns(marked, 'label', 'text')\n",
    "marked"
   ]
  },
  {
   "cell_type": "markdown",
   "metadata": {},
   "source": [
    "# Cleaning"
   ]
  },
  {
   "cell_type": "code",
   "execution_count": 15,
   "metadata": {},
   "outputs": [],
   "source": [
    "start = stopwords[:6]\n",
    "end = stopwords[-34:]\n",
    "my = ['【', '】', '…']\n",
    "punc = start+end+my\n",
    "output = ''\n",
    "\n",
    "for i in punc:\n",
    "    output = output + i"
   ]
  },
  {
   "cell_type": "code",
   "execution_count": 16,
   "metadata": {},
   "outputs": [],
   "source": [
    "import re\n",
    "import string\n",
    "\n",
    "def brackets(x):\n",
    "    x = re.sub(\"[\\[].*?[\\]]\", \"\", x)\n",
    "    return x\n",
    "\n",
    "def remove(x):\n",
    "    # all English punctuations\n",
    "    x = x.translate(str.maketrans('', '', string.punctuation))\n",
    "    \n",
    "    # all Chinese punctuations\n",
    "    out = ''\n",
    "    for i in x:\n",
    "        if i in output:\n",
    "            out = out\n",
    "        else:\n",
    "            out = out+i\n",
    "    return out"
   ]
  },
  {
   "cell_type": "markdown",
   "metadata": {},
   "source": [
    "## Clean `weibo_senti` training set"
   ]
  },
  {
   "cell_type": "code",
   "execution_count": 17,
   "metadata": {},
   "outputs": [
    {
     "data": {
      "text/html": [
       "<div>\n",
       "<style scoped>\n",
       "    .dataframe tbody tr th:only-of-type {\n",
       "        vertical-align: middle;\n",
       "    }\n",
       "\n",
       "    .dataframe tbody tr th {\n",
       "        vertical-align: top;\n",
       "    }\n",
       "\n",
       "    .dataframe thead th {\n",
       "        text-align: right;\n",
       "    }\n",
       "</style>\n",
       "<table border=\"1\" class=\"dataframe\">\n",
       "  <thead>\n",
       "    <tr style=\"text-align: right;\">\n",
       "      <th></th>\n",
       "      <th>text</th>\n",
       "      <th>label</th>\n",
       "    </tr>\n",
       "  </thead>\n",
       "  <tbody>\n",
       "    <tr>\n",
       "      <th>0</th>\n",
       "      <td>﻿更博了，爆照了，帅的呀，就是越来越爱你！生快傻缺[爱你][爱你][爱你]</td>\n",
       "      <td>1</td>\n",
       "    </tr>\n",
       "    <tr>\n",
       "      <th>1</th>\n",
       "      <td>@张晓鹏jonathan 土耳其的事要认真对待[哈哈]，否则直接开除。@丁丁看世界 很是细心...</td>\n",
       "      <td>1</td>\n",
       "    </tr>\n",
       "    <tr>\n",
       "      <th>2</th>\n",
       "      <td>姑娘都羡慕你呢…还有招财猫高兴……//@爱在蔓延-JC:[哈哈]小学徒一枚，等着明天见您呢/...</td>\n",
       "      <td>1</td>\n",
       "    </tr>\n",
       "    <tr>\n",
       "      <th>3</th>\n",
       "      <td>美~~~~~[爱你]</td>\n",
       "      <td>1</td>\n",
       "    </tr>\n",
       "    <tr>\n",
       "      <th>4</th>\n",
       "      <td>梦想有多大，舞台就有多大![鼓掌]</td>\n",
       "      <td>1</td>\n",
       "    </tr>\n",
       "    <tr>\n",
       "      <th>...</th>\n",
       "      <td>...</td>\n",
       "      <td>...</td>\n",
       "    </tr>\n",
       "    <tr>\n",
       "      <th>119983</th>\n",
       "      <td>一公里不到，县医院那个天桥下右拐200米就到了！//@谢礼恒: 我靠。这个太霸道了！离224...</td>\n",
       "      <td>0</td>\n",
       "    </tr>\n",
       "    <tr>\n",
       "      <th>119984</th>\n",
       "      <td>今天真冷啊，难道又要穿棉袄了[晕]？今年的春天真的是百变莫测啊[抓狂]</td>\n",
       "      <td>0</td>\n",
       "    </tr>\n",
       "    <tr>\n",
       "      <th>119985</th>\n",
       "      <td>最近几天就没停止过！！！[伤心]</td>\n",
       "      <td>0</td>\n",
       "    </tr>\n",
       "    <tr>\n",
       "      <th>119986</th>\n",
       "      <td>//@毒药女流氓:[怒] 很惨!</td>\n",
       "      <td>0</td>\n",
       "    </tr>\n",
       "    <tr>\n",
       "      <th>119987</th>\n",
       "      <td>呢??@杰?Kelena ？！[抓狂] ?搞乜鬼？？！！想知？入去GOtrip睇睇： htt...</td>\n",
       "      <td>0</td>\n",
       "    </tr>\n",
       "  </tbody>\n",
       "</table>\n",
       "<p>119988 rows × 2 columns</p>\n",
       "</div>"
      ],
      "text/plain": [
       "                                                     text  label\n",
       "0                   ﻿更博了，爆照了，帅的呀，就是越来越爱你！生快傻缺[爱你][爱你][爱你]      1\n",
       "1       @张晓鹏jonathan 土耳其的事要认真对待[哈哈]，否则直接开除。@丁丁看世界 很是细心...      1\n",
       "2       姑娘都羡慕你呢…还有招财猫高兴……//@爱在蔓延-JC:[哈哈]小学徒一枚，等着明天见您呢/...      1\n",
       "3                                              美~~~~~[爱你]      1\n",
       "4                                       梦想有多大，舞台就有多大![鼓掌]      1\n",
       "...                                                   ...    ...\n",
       "119983  一公里不到，县医院那个天桥下右拐200米就到了！//@谢礼恒: 我靠。这个太霸道了！离224...      0\n",
       "119984                今天真冷啊，难道又要穿棉袄了[晕]？今年的春天真的是百变莫测啊[抓狂]      0\n",
       "119985                                   最近几天就没停止过！！！[伤心]      0\n",
       "119986                                   //@毒药女流氓:[怒] 很惨!      0\n",
       "119987  呢??@杰?Kelena ？！[抓狂] ?搞乜鬼？？！！想知？入去GOtrip睇睇： htt...      0\n",
       "\n",
       "[119988 rows x 2 columns]"
      ]
     },
     "execution_count": 17,
     "metadata": {},
     "output_type": "execute_result"
    }
   ],
   "source": [
    "df"
   ]
  },
  {
   "cell_type": "code",
   "execution_count": 18,
   "metadata": {},
   "outputs": [],
   "source": [
    "df['text'] = df['text'].apply(brackets)\n",
    "df['text'] = df['text'].apply(remove)"
   ]
  },
  {
   "cell_type": "code",
   "execution_count": 19,
   "metadata": {},
   "outputs": [
    {
     "data": {
      "text/html": [
       "<div>\n",
       "<style scoped>\n",
       "    .dataframe tbody tr th:only-of-type {\n",
       "        vertical-align: middle;\n",
       "    }\n",
       "\n",
       "    .dataframe tbody tr th {\n",
       "        vertical-align: top;\n",
       "    }\n",
       "\n",
       "    .dataframe thead th {\n",
       "        text-align: right;\n",
       "    }\n",
       "</style>\n",
       "<table border=\"1\" class=\"dataframe\">\n",
       "  <thead>\n",
       "    <tr style=\"text-align: right;\">\n",
       "      <th></th>\n",
       "      <th>text</th>\n",
       "      <th>label</th>\n",
       "    </tr>\n",
       "  </thead>\n",
       "  <tbody>\n",
       "    <tr>\n",
       "      <th>0</th>\n",
       "      <td>﻿更博了爆照了帅的呀就是越来越爱你生快傻缺</td>\n",
       "      <td>1</td>\n",
       "    </tr>\n",
       "    <tr>\n",
       "      <th>1</th>\n",
       "      <td>张晓鹏jonathan 土耳其的事要认真对待否则直接开除丁丁看世界 很是细心酒店都全部OK啦</td>\n",
       "      <td>1</td>\n",
       "    </tr>\n",
       "    <tr>\n",
       "      <th>2</th>\n",
       "      <td>姑娘都羡慕你呢还有招财猫高兴爱在蔓延JC小学徒一枚等着明天见您呢李欣芸SharonLee大佬范儿</td>\n",
       "      <td>1</td>\n",
       "    </tr>\n",
       "    <tr>\n",
       "      <th>3</th>\n",
       "      <td>美</td>\n",
       "      <td>1</td>\n",
       "    </tr>\n",
       "    <tr>\n",
       "      <th>4</th>\n",
       "      <td>梦想有多大舞台就有多大</td>\n",
       "      <td>1</td>\n",
       "    </tr>\n",
       "    <tr>\n",
       "      <th>...</th>\n",
       "      <td>...</td>\n",
       "      <td>...</td>\n",
       "    </tr>\n",
       "    <tr>\n",
       "      <th>119983</th>\n",
       "      <td>一公里不到县医院那个天桥下右拐200米就到了谢礼恒 我靠这个太霸道了离224有好远 古倒吃1...</td>\n",
       "      <td>0</td>\n",
       "    </tr>\n",
       "    <tr>\n",
       "      <th>119984</th>\n",
       "      <td>今天真冷啊难道又要穿棉袄了今年的春天真的是百变莫测啊</td>\n",
       "      <td>0</td>\n",
       "    </tr>\n",
       "    <tr>\n",
       "      <th>119985</th>\n",
       "      <td>最近几天就没停止过</td>\n",
       "      <td>0</td>\n",
       "    </tr>\n",
       "    <tr>\n",
       "      <th>119986</th>\n",
       "      <td>毒药女流氓 很惨</td>\n",
       "      <td>0</td>\n",
       "    </tr>\n",
       "    <tr>\n",
       "      <th>119987</th>\n",
       "      <td>呢杰Kelena  搞乜鬼想知入去GOtrip睇睇 httptcna1AefV</td>\n",
       "      <td>0</td>\n",
       "    </tr>\n",
       "  </tbody>\n",
       "</table>\n",
       "<p>119988 rows × 2 columns</p>\n",
       "</div>"
      ],
      "text/plain": [
       "                                                     text  label\n",
       "0                                   ﻿更博了爆照了帅的呀就是越来越爱你生快傻缺      1\n",
       "1          张晓鹏jonathan 土耳其的事要认真对待否则直接开除丁丁看世界 很是细心酒店都全部OK啦      1\n",
       "2        姑娘都羡慕你呢还有招财猫高兴爱在蔓延JC小学徒一枚等着明天见您呢李欣芸SharonLee大佬范儿      1\n",
       "3                                                       美      1\n",
       "4                                             梦想有多大舞台就有多大      1\n",
       "...                                                   ...    ...\n",
       "119983  一公里不到县医院那个天桥下右拐200米就到了谢礼恒 我靠这个太霸道了离224有好远 古倒吃1...      0\n",
       "119984                         今天真冷啊难道又要穿棉袄了今年的春天真的是百变莫测啊      0\n",
       "119985                                          最近几天就没停止过      0\n",
       "119986                                           毒药女流氓 很惨      0\n",
       "119987            呢杰Kelena  搞乜鬼想知入去GOtrip睇睇 httptcna1AefV      0\n",
       "\n",
       "[119988 rows x 2 columns]"
      ]
     },
     "execution_count": 19,
     "metadata": {},
     "output_type": "execute_result"
    }
   ],
   "source": [
    "df"
   ]
  },
  {
   "cell_type": "code",
   "execution_count": 20,
   "metadata": {},
   "outputs": [],
   "source": [
    "df = df[df['text']!='']"
   ]
  },
  {
   "cell_type": "code",
   "execution_count": 21,
   "metadata": {},
   "outputs": [
    {
     "name": "stderr",
     "output_type": "stream",
     "text": [
      "/home/emilygong/miniconda3/envs/paddle_env/lib/python3.9/site-packages/tqdm/auto.py:22: TqdmWarning: IProgress not found. Please update jupyter and ipywidgets. See https://ipywidgets.readthedocs.io/en/stable/user_install.html\n",
      "  from .autonotebook import tqdm as notebook_tqdm\n"
     ]
    }
   ],
   "source": [
    "from paddlenlp import Taskflow\n",
    "seg = Taskflow(\"word_segmentation\", mode=\"fast\")\n",
    "\n",
    "def no_stopwords(txt):\n",
    "    result = seg(txt)\n",
    "    newstring = ''\n",
    "    for word in result:\n",
    "        if word in stopwords:\n",
    "            newstring = newstring\n",
    "        else:\n",
    "            newstring = newstring + word\n",
    "    return newstring"
   ]
  },
  {
   "cell_type": "code",
   "execution_count": 22,
   "metadata": {},
   "outputs": [
    {
     "name": "stderr",
     "output_type": "stream",
     "text": [
      "Building prefix dict from the default dictionary ...\n",
      "DEBUG 2022-12-02 11:43:48,763 __init__.py:113] Building prefix dict from the default dictionary ...\n",
      "Loading model from cache /tmp/jieba.cache\n",
      "DEBUG 2022-12-02 11:43:48,766 __init__.py:132] Loading model from cache /tmp/jieba.cache\n",
      "Loading model cost 0.625 seconds.\n",
      "DEBUG 2022-12-02 11:43:49,391 __init__.py:164] Loading model cost 0.625 seconds.\n",
      "Prefix dict has been built successfully.\n",
      "DEBUG 2022-12-02 11:43:49,393 __init__.py:166] Prefix dict has been built successfully.\n"
     ]
    }
   ],
   "source": [
    "df['text'] = df['text'].apply(no_stopwords)"
   ]
  },
  {
   "cell_type": "code",
   "execution_count": 23,
   "metadata": {},
   "outputs": [],
   "source": [
    "df = df[df['text']!='']"
   ]
  },
  {
   "cell_type": "code",
   "execution_count": 24,
   "metadata": {},
   "outputs": [],
   "source": [
    "# split the df into 3 df's - 80% for train, 10% for dev, 10% for test\n",
    "train = df.sample(frac = 0.8, random_state=1)\n",
    "rest = pd.concat([df, train, train]).drop_duplicates(keep=False)\n",
    "dev = rest.sample(frac = 0.5, random_state=1)\n",
    "test = pd.concat([rest, dev, dev]).drop_duplicates(keep=False)"
   ]
  },
  {
   "cell_type": "code",
   "execution_count": 25,
   "metadata": {},
   "outputs": [],
   "source": [
    "np.savetxt(r'train_clean.txt', train.values, fmt='%s')\n",
    "np.savetxt(r'dev_clean.txt', dev.values, fmt='%s')\n",
    "np.savetxt(r'test_clean.txt', test.values, fmt='%s')"
   ]
  },
  {
   "cell_type": "markdown",
   "metadata": {},
   "source": [
    "## Clean my dataset"
   ]
  },
  {
   "cell_type": "code",
   "execution_count": 33,
   "metadata": {},
   "outputs": [
    {
     "data": {
      "text/html": [
       "<div>\n",
       "<style scoped>\n",
       "    .dataframe tbody tr th:only-of-type {\n",
       "        vertical-align: middle;\n",
       "    }\n",
       "\n",
       "    .dataframe tbody tr th {\n",
       "        vertical-align: top;\n",
       "    }\n",
       "\n",
       "    .dataframe thead th {\n",
       "        text-align: right;\n",
       "    }\n",
       "</style>\n",
       "<table border=\"1\" class=\"dataframe\">\n",
       "  <thead>\n",
       "    <tr style=\"text-align: right;\">\n",
       "      <th></th>\n",
       "      <th>text</th>\n",
       "      <th>label</th>\n",
       "    </tr>\n",
       "  </thead>\n",
       "  <tbody>\n",
       "    <tr>\n",
       "      <th>0</th>\n",
       "      <td>我是真服了#合肥疫情#</td>\n",
       "      <td>0</td>\n",
       "    </tr>\n",
       "    <tr>\n",
       "      <th>1</th>\n",
       "      <td>啥也不说了，时间真的证明了，武汉真是英雄的城市。</td>\n",
       "      <td>1</td>\n",
       "    </tr>\n",
       "    <tr>\n",
       "      <th>2</th>\n",
       "      <td>如果这个女孩朋友圈是造谣，周处长可以选择报警了；如果她所说属实，周处长真是一位好婆婆。这一邮...</td>\n",
       "      <td>0</td>\n",
       "    </tr>\n",
       "    <tr>\n",
       "      <th>3</th>\n",
       "      <td>【昨日#上海新增355例确诊5298例无症状#】上海市卫健委今早（31日）通报：2022年3...</td>\n",
       "      <td>0</td>\n",
       "    </tr>\n",
       "    <tr>\n",
       "      <th>4</th>\n",
       "      <td>#100万癌症患者的上海生存#过去两个月，在上海这座医疗资源被剧烈争夺的超级大都市，癌症患者...</td>\n",
       "      <td>1</td>\n",
       "    </tr>\n",
       "    <tr>\n",
       "      <th>...</th>\n",
       "      <td>...</td>\n",
       "      <td>...</td>\n",
       "    </tr>\n",
       "    <tr>\n",
       "      <th>195</th>\n",
       "      <td>“上海封上一周不行吗？”不行！因为上海承载全国乃至全球重要功能#上海为什么不能封城#L中事的...</td>\n",
       "      <td>0</td>\n",
       "    </tr>\n",
       "    <tr>\n",
       "      <th>196</th>\n",
       "      <td>本来打了很多字，但后来全部删掉了，因为说太多反而会牵扯很多话题，也不想评论里大家吵起来。现在...</td>\n",
       "      <td>1</td>\n",
       "    </tr>\n",
       "    <tr>\n",
       "      <th>197</th>\n",
       "      <td>#全国已有上万名医护人员驰援上海#2020至今，最拉的城市！没有之一！！！！关键这种时候某些...</td>\n",
       "      <td>0</td>\n",
       "    </tr>\n",
       "    <tr>\n",
       "      <th>198</th>\n",
       "      <td>没转吉林市丹东市等一系列三四线封城求助是因为我坚信转了也没用，一二线省会城市还会稍微注意以下...</td>\n",
       "      <td>0</td>\n",
       "    </tr>\n",
       "    <tr>\n",
       "      <th>199</th>\n",
       "      <td>#抗疫先锋叶财德#他不是网红，但他是真的专家！作为国家卫生健康委应对新冠肺炎疫情社区防控基层...</td>\n",
       "      <td>1</td>\n",
       "    </tr>\n",
       "  </tbody>\n",
       "</table>\n",
       "<p>200 rows × 2 columns</p>\n",
       "</div>"
      ],
      "text/plain": [
       "                                                  text  label\n",
       "0                                          我是真服了#合肥疫情#      0\n",
       "1                             啥也不说了，时间真的证明了，武汉真是英雄的城市。      1\n",
       "2    如果这个女孩朋友圈是造谣，周处长可以选择报警了；如果她所说属实，周处长真是一位好婆婆。这一邮...      0\n",
       "3    【昨日#上海新增355例确诊5298例无症状#】上海市卫健委今早（31日）通报：2022年3...      0\n",
       "4    #100万癌症患者的上海生存#过去两个月，在上海这座医疗资源被剧烈争夺的超级大都市，癌症患者...      1\n",
       "..                                                 ...    ...\n",
       "195  “上海封上一周不行吗？”不行！因为上海承载全国乃至全球重要功能#上海为什么不能封城#L中事的...      0\n",
       "196  本来打了很多字，但后来全部删掉了，因为说太多反而会牵扯很多话题，也不想评论里大家吵起来。现在...      1\n",
       "197  #全国已有上万名医护人员驰援上海#2020至今，最拉的城市！没有之一！！！！关键这种时候某些...      0\n",
       "198  没转吉林市丹东市等一系列三四线封城求助是因为我坚信转了也没用，一二线省会城市还会稍微注意以下...      0\n",
       "199  #抗疫先锋叶财德#他不是网红，但他是真的专家！作为国家卫生健康委应对新冠肺炎疫情社区防控基层...      1\n",
       "\n",
       "[200 rows x 2 columns]"
      ]
     },
     "execution_count": 33,
     "metadata": {},
     "output_type": "execute_result"
    }
   ],
   "source": [
    "marked"
   ]
  },
  {
   "cell_type": "code",
   "execution_count": 34,
   "metadata": {},
   "outputs": [],
   "source": [
    "import re\n",
    "def clean_my(context):\n",
    "     # not getting rid of the username after @\n",
    "    at = re.findall(\"@\", context)\n",
    "    context = re.sub(\"@\",\",\",context)\n",
    "\n",
    "    tags = re.findall(\"#\",context)\n",
    "    context = re.sub(\"#\",\",\",context)\n",
    "\n",
    "    title = re.findall(\"【\",context)\n",
    "    context = re.sub(\"【\",\",\",context)\n",
    "\n",
    "    title = re.findall(\"】\",context)\n",
    "    context = re.sub(\"】\",\",\",context)\n",
    "\n",
    "    parentheses = re.findall(\"（(.{0,8})）\",context)\n",
    "    context = re.sub(\"（.{0,8}）\",\"\",context)\n",
    "\n",
    "    parentheses = re.findall(\"（(.{0,30})）\",context)\n",
    "    context = re.sub(\"（.{0,30}）\",\"\",context)\n",
    "    \n",
    "    ch = 'L'\n",
    "    pattern  = ch + \".*\"\n",
    "    context = re.sub(pattern, '', context)\n",
    "\n",
    "    context = re.sub(\"（\", \",\", context)\n",
    "    \n",
    "    '''\n",
    "    context = re.sub(r'[^\\w\\s]',',',context) \n",
    "    this line helps clean chinese punctuations by replacing everything to ,\n",
    "    not the best -> will find another way to clean it later\n",
    "    '''\n",
    "    if len(context) == 0:\n",
    "        return \"\"\n",
    "\n",
    "    if context[0] == ',':\n",
    "        context = context[1:]\n",
    "        \n",
    "    r = re.compile(r'([.,/#!$%^&*;:{}=_`~()-])[.,/#!$%^&*;:{}=_`~()-]+')\n",
    "    context = r.sub(r'\\1', context)\n",
    "    \n",
    "    if len(context) == 0:\n",
    "        return \"\"\n",
    "    \n",
    "    if context[0] == ',':\n",
    "        context = context[1:]\n",
    "    \n",
    "    return context"
   ]
  },
  {
   "cell_type": "code",
   "execution_count": 43,
   "metadata": {},
   "outputs": [],
   "source": [
    "marked['text'] = marked['text'].apply(str)\n",
    "marked['text'] = marked['text'].apply(remove)\n",
    "marked['text'] = marked['text'].apply(clean_my)\n",
    "marked = marked.drop(3).reset_index(drop=True)\n",
    "marked = marked[marked['text']!='']"
   ]
  },
  {
   "cell_type": "code",
   "execution_count": 44,
   "metadata": {},
   "outputs": [],
   "source": [
    "marked['text'] = marked['text'].apply(no_stopwords)"
   ]
  },
  {
   "cell_type": "code",
   "execution_count": 45,
   "metadata": {},
   "outputs": [
    {
     "data": {
      "text/html": [
       "<div>\n",
       "<style scoped>\n",
       "    .dataframe tbody tr th:only-of-type {\n",
       "        vertical-align: middle;\n",
       "    }\n",
       "\n",
       "    .dataframe tbody tr th {\n",
       "        vertical-align: top;\n",
       "    }\n",
       "\n",
       "    .dataframe thead th {\n",
       "        text-align: right;\n",
       "    }\n",
       "</style>\n",
       "<table border=\"1\" class=\"dataframe\">\n",
       "  <thead>\n",
       "    <tr style=\"text-align: right;\">\n",
       "      <th></th>\n",
       "      <th>text</th>\n",
       "      <th>label</th>\n",
       "    </tr>\n",
       "  </thead>\n",
       "  <tbody>\n",
       "    <tr>\n",
       "      <th>0</th>\n",
       "      <td>真服了合肥疫情</td>\n",
       "      <td>0</td>\n",
       "    </tr>\n",
       "    <tr>\n",
       "      <th>1</th>\n",
       "      <td>时间真的证明武汉真是英雄城市</td>\n",
       "      <td>1</td>\n",
       "    </tr>\n",
       "    <tr>\n",
       "      <th>2</th>\n",
       "      <td>女孩朋友圈造谣周处长选择报警所说属实周处长真是一位婆婆这一邮包米其林餐厅活海鲜食材不花一个月...</td>\n",
       "      <td>0</td>\n",
       "    </tr>\n",
       "    <tr>\n",
       "      <th>3</th>\n",
       "      <td>100万癌症患者上海生存过去两个上海这座医疗资源剧烈争夺超级大都市癌症患者无疑脆弱部分死亡追...</td>\n",
       "      <td>1</td>\n",
       "    </tr>\n",
       "    <tr>\n",
       "      <th>4</th>\n",
       "      <td>领导上级口臭</td>\n",
       "      <td>0</td>\n",
       "    </tr>\n",
       "    <tr>\n",
       "      <th>...</th>\n",
       "      <td>...</td>\n",
       "      <td>...</td>\n",
       "    </tr>\n",
       "    <tr>\n",
       "      <th>194</th>\n",
       "      <td>“上海封上一周不行”不行上海承载全国全球重要功能上海不能封城</td>\n",
       "      <td>0</td>\n",
       "    </tr>\n",
       "    <tr>\n",
       "      <th>195</th>\n",
       "      <td>本来很多字后来删掉说太多牵扯很多话题不想评论里吵起来现在缩减一下希望上海加油早日结束该死疫情...</td>\n",
       "      <td>1</td>\n",
       "    </tr>\n",
       "    <tr>\n",
       "      <th>196</th>\n",
       "      <td>全国已有上万名医护人员驰援上海2020最拉城市没有关键这种上海排外看不起地方支援物资求求上海...</td>\n",
       "      <td>0</td>\n",
       "    </tr>\n",
       "    <tr>\n",
       "      <th>197</th>\n",
       "      <td>没转吉林市丹东市一系列三四线封城求助是因为坚信转没用二线省会城市还会稍微注意以下舆情毕竟地区...</td>\n",
       "      <td>0</td>\n",
       "    </tr>\n",
       "    <tr>\n",
       "      <th>198</th>\n",
       "      <td>抗疫先锋叶财德网红真的专家国家卫生健康委应对新冠肺炎疫情社区防控基层卫生专家组专家叶财德第一...</td>\n",
       "      <td>1</td>\n",
       "    </tr>\n",
       "  </tbody>\n",
       "</table>\n",
       "<p>198 rows × 2 columns</p>\n",
       "</div>"
      ],
      "text/plain": [
       "                                                  text  label\n",
       "0                                              真服了合肥疫情      0\n",
       "1                                       时间真的证明武汉真是英雄城市      1\n",
       "2    女孩朋友圈造谣周处长选择报警所说属实周处长真是一位婆婆这一邮包米其林餐厅活海鲜食材不花一个月...      0\n",
       "3    100万癌症患者上海生存过去两个上海这座医疗资源剧烈争夺超级大都市癌症患者无疑脆弱部分死亡追...      1\n",
       "4                                               领导上级口臭      0\n",
       "..                                                 ...    ...\n",
       "194                     “上海封上一周不行”不行上海承载全国全球重要功能上海不能封城      0\n",
       "195  本来很多字后来删掉说太多牵扯很多话题不想评论里吵起来现在缩减一下希望上海加油早日结束该死疫情...      1\n",
       "196  全国已有上万名医护人员驰援上海2020最拉城市没有关键这种上海排外看不起地方支援物资求求上海...      0\n",
       "197  没转吉林市丹东市一系列三四线封城求助是因为坚信转没用二线省会城市还会稍微注意以下舆情毕竟地区...      0\n",
       "198  抗疫先锋叶财德网红真的专家国家卫生健康委应对新冠肺炎疫情社区防控基层卫生专家组专家叶财德第一...      1\n",
       "\n",
       "[198 rows x 2 columns]"
      ]
     },
     "execution_count": 45,
     "metadata": {},
     "output_type": "execute_result"
    }
   ],
   "source": [
    "marked"
   ]
  },
  {
   "cell_type": "code",
   "execution_count": 46,
   "metadata": {},
   "outputs": [],
   "source": [
    "np.savetxt(r'actual_test_clean.txt', marked.values, fmt='%s')"
   ]
  },
  {
   "cell_type": "code",
   "execution_count": null,
   "metadata": {},
   "outputs": [],
   "source": []
  }
 ],
 "metadata": {
  "kernelspec": {
   "display_name": "paddle_env",
   "language": "python",
   "name": "paddle_env"
  },
  "language_info": {
   "codemirror_mode": {
    "name": "ipython",
    "version": 3
   },
   "file_extension": ".py",
   "mimetype": "text/x-python",
   "name": "python",
   "nbconvert_exporter": "python",
   "pygments_lexer": "ipython3",
   "version": "3.9.13"
  }
 },
 "nbformat": 4,
 "nbformat_minor": 4
}
